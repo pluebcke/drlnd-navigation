{
 "cells": [
  {
   "cell_type": "markdown",
   "metadata": {},
   "source": [
    "# Deep Reinforcement Learning Navigation Project\n",
    "This notebook contains my solution for the navigation project. A UnityEnvironment [1] in which an agent should learn to collect yellow bananas, while avoiding blue banans, was provided by Udacity.\n",
    "\n",
    "The agent uses the DQN network (Mnith et al., 2015, [2]) and two improvements, namely Double-DQN (van Hasselt et al., 2015, [3]) and Dueling Network Architectures ( Wang et al., 2015, [4]).\n",
    "\n",
    "I emphasized simplicty in the implementation of replay memory and agent over the most efficient or most expandability. Before writing my implementation I studied the DQN example from the Udacity Deep Reinforcement Learning Repository [5], the instructions for the navigation project [6] and the DQN implementation from OpenAi Baselines [7]. Additionally, the PyTorch documentation & tutorial page was very helpful to get started on PyTorch."
   ]
  },
  {
   "cell_type": "markdown",
   "metadata": {},
   "source": [
    "## Learning algorithm\n",
    "\n",
    "The agent uses the DQN algorithm by Mnith et al. (2015, [2]), in which a neural network is used in order to learn the Q-values of an environment. \n",
    "At time $t$, the agent is in state $s_t$ and chooses an action $a_t$ with an $\\epsilon$ greedy policy and observes the response of the environment (especially the reward $r_{t+1}$ and the next state $s_{t+1}$).\n",
    "The tuple ($s_t$, $a_t$, $r_{t+1}$, $s_{t+1}$) forms on element of experience and is saved in the Replay Memory.\n",
    "When enough experience is collected, the agent samples from the Replay Memory randomly and uses this vector of experience for a batch update of the q networks.\n",
    "To update the network, we try to minimize the loss [2]:\n",
    "$$ L = r_{t+1} + \\gamma * max_{a} Q(s_{t+1}, a, \\theta') - Q(s_{t}, a_{t}, \\theta ) $$,\n",
    "where $\\theta$ is the Q-network and $\\theta'$ is the target network. The target network is updated to be a copy of the q-network after n steps. \n",
    "\n",
    "The Double-DQN algorithm [3] sightly modifies the learning step for the q-network in order to obtain a more stable update. In the dueling network method [4], the neural network used to obtain the Q-values is split in one part representing the value of a state and the so-called \"advantage\", which represents the additional value coming from choosing a particular action.\n"
   ]
  },
  {
   "cell_type": "code",
   "execution_count": 1,
   "metadata": {},
   "outputs": [],
   "source": [
    "# Install necessary scripts\n",
    "!pip -q install ./python"
   ]
  },
  {
   "cell_type": "code",
   "execution_count": 2,
   "metadata": {},
   "outputs": [],
   "source": [
    "# Import the necessary libraries\n",
    "from collections import deque, namedtuple\n",
    "from random import sample\n",
    "import numpy as np\n",
    "import torch\n",
    "import torch.nn as nn\n",
    "import torch.nn.functional as F\n",
    "from unityagents import UnityEnvironment\n",
    "\n",
    "# Settings\n",
    "\n",
    "# Paths and folders:\n",
    "\n",
    "environment_path = \"/data/Banana_Linux_NoVis/Banana.x86_64\"\n",
    "model_save_path = \"./data/\"\n",
    "\n",
    "# Select the different versions of the agent that you want to train\n",
    "Setting = namedtuple(\"Settings\",'name, lr, ddqn, duel')\n",
    "test_settings = []\n",
    "test_settings.append(Setting(\"DQN\", 5e-4, False, False))   # Plain DQN\n",
    "test_settings.append(Setting(\"DDQN\", 5e-4, True, False))    # DDQN\n",
    "test_settings.append(Setting(\"DDQN + Duel\", 5e-4, True, True))     # DDQN + Duel Network\n",
    "\n",
    "# maximal number of episodes each agent is trained on\n",
    "number_episodes = 1000\n",
    "# Choose if your calculations are performed on a GPU or on the CPU\n",
    "device = torch.device(\"cuda:0\" if torch.cuda.is_available() else \"cpu\")\n",
    "\n",
    "Experience = namedtuple('Experience','state action reward next_state done')"
   ]
  },
  {
   "cell_type": "markdown",
   "metadata": {},
   "source": [
    "## Neural networks\n",
    "The dqn class is used to implement the neural network for the standard DQN algorithm as well as the dueling network algorithm. You can select the dueling network with the duel flag in the constructor.\n",
    "\n",
    "The standard DQN model has three fully-connected hidden layers with 64 neurons each and four outputs, one output for each possible action. After the first two hidden layers a ReLU is used as the activation function.\n",
    "\n",
    "The dueling network uses two layers with 64 neurons in the beginning, afterwards the network is split and one part for the state value and one part for the advantage. The state value part has one layer with 64 neurons and a second layer with 48 neurons. The advantage part uses slightly more neurons (64 in the first and 64 in the second layer), since it ultimately also has more outputs."
   ]
  },
  {
   "cell_type": "code",
   "execution_count": 3,
   "metadata": {},
   "outputs": [],
   "source": [
    "class dqn(nn.Module):\n",
    "    def __init__(self, state_size, action_size, duel = False):\n",
    "        super(dqn, self).__init__()\n",
    "        self.duel = duel\n",
    "        self.fc1 = nn.Linear( state_size, 64 )\n",
    "        self.fc2 = nn.Linear( 64, 64 )\n",
    "        self.fc3 = nn.Linear( 64, action_size )\n",
    "        \n",
    "        self.fc3v = nn.Linear( 64, 48)\n",
    "        self.fc4v = nn.Linear( 48, 1 )\n",
    "        self.fc3a = nn.Linear( 64, 64)\n",
    "        self.fc4a = nn.Linear( 64, action_size )\n",
    "        \n",
    "    def forward(self, state):\n",
    "        x = F.relu(self.fc1(state))\n",
    "        x = F.relu(self.fc2(x))\n",
    "        \n",
    "        if not self.duel:\n",
    "            x = self.fc3(x)               # The regular case\n",
    "        else:\n",
    "            v = F.relu(self.fc3v( x ))    # The duel network architecture\n",
    "            v = self.fc4v( v )\n",
    "            a = F.relu(self.fc3a( x ))\n",
    "            a = self.fc4a( a )\n",
    "            x = v + (a - a.mean())        # Subtract a.mean(), another choice would be a.max()\n",
    "        return x"
   ]
  },
  {
   "cell_type": "markdown",
   "metadata": {},
   "source": [
    "The Replay Memory is used to save and sample experience. The deque can only cold maxLen elements, thus older elements are deleted from Replay Memory. "
   ]
  },
  {
   "cell_type": "code",
   "execution_count": 4,
   "metadata": {},
   "outputs": [],
   "source": [
    "class ReplayMemory():\n",
    "    def __init__(self, maxLen ):\n",
    "        self.data = deque(maxlen=maxLen)\n",
    "        return\n",
    "    def add(self, sample):\n",
    "        self.data.append(sample)\n",
    "        return\n",
    "    def sample(self, number_samples):\n",
    "        length = len(self.data)\n",
    "        states = []\n",
    "        actions = []\n",
    "        rewards = []\n",
    "        next_states = []\n",
    "        dones = []\n",
    "        if(length > number_samples):\n",
    "            elements = list(range(length))\n",
    "            indices = sample(elements, number_samples)\n",
    "            for index in indices:\n",
    "                state, action, reward, next_state, done = self.data[index]\n",
    "                states.append(state)\n",
    "                actions.append(action)\n",
    "                rewards.append(reward)\n",
    "                next_states.append(next_state)\n",
    "                dones.append(done)\n",
    "        states_d = torch.from_numpy(np.array(states)).float().unsqueeze(1).to(device)\n",
    "        actions_d = torch.from_numpy(np.array(actions)).long().unsqueeze(1).to(device)\n",
    "        rewards_d = torch.from_numpy(np.array(rewards)).float().unsqueeze(1).to(device)\n",
    "        next_states_d = torch.from_numpy(np.array(next_states)).float().to(device)\n",
    "        dones_d = torch.from_numpy(np.array(dones).astype(np.float32)).float().unsqueeze(1).to(device)\n",
    "\n",
    "        # Returning experience vectors, similar to the DQN network solution from [5]\n",
    "        return tuple((states_d, actions_d, rewards_d, next_states_d, dones_d))"
   ]
  },
  {
   "cell_type": "markdown",
   "metadata": {},
   "source": [
    "Below is the implementation of the agent, there are various hyperparameters that can be set.\n",
    "The parameters are explained in the comments of the __init__ method."
   ]
  },
  {
   "cell_type": "code",
   "execution_count": 5,
   "metadata": {},
   "outputs": [],
   "source": [
    "   class Agent():\n",
    "    def __init__(self, state_size, action_size, settings, maxLen = 10000):\n",
    "        \n",
    "        # Create the replay memory and the two neural networks and the optimizer function\n",
    "        self.mem = ReplayMemory(maxLen)\n",
    "        self.q_net = dqn(state_size, action_size).to(device)\n",
    "        self.tgt_net = dqn(state_size, action_size).to(device)\n",
    "        self.optimizer = torch.optim.Adam(self.q_net.parameters(), lr = settings.lr)\n",
    "        \n",
    "        # Set some constants and hyperparameters for the agent\n",
    "        self.duel = settings.duel                 # Using duel network architecture or not\n",
    "        self.ddqn = settings.ddqn                 # Using the DDQN update step instead of DQN\n",
    "        self.epsilon_start = 1                    # Epsilon governs the amount of exploration in the action selection step\n",
    "        self.epsilon_decay_rate = 1.0/100000.0    # Epsilon should decay in order to have more exploitation later in training.\n",
    "        self.epsilon_min = 0.01                   # The decay is governed by the epsilon_decay_rate and epsilon_min\n",
    "        self.update_every = 4                     # Update the q-network after update_every steps\n",
    "        self.copy_net_every = 1000                # How often is tgt_net updated\n",
    "        self.batch_size = 64                      # Size of the batch used for training\n",
    "        self.gamma = 0.99                         # Decay rate for future updates\n",
    "\n",
    "        #reset some variables\n",
    "        self.count = 0\n",
    "        self.epsilon = self.epsilon_start\n",
    "\n",
    "    def update(self, sample):\n",
    "        self.count += 1\n",
    "        self.epsilon = max(self.epsilon - self.epsilon, self.epsilon_min)\n",
    "        self.mem.add(sample)\n",
    "        \n",
    "        if self.count%self.copy_net_every == 0:\n",
    "            self.tgt_net.load_state_dict(self.q_net.state_dict())\n",
    "        if self.count > self.batch_size and self.count%self.update_every == 0:\n",
    "            states, actions, rewards, next_states, dones = self.mem.sample(self.batch_size)\n",
    "            \n",
    "            if not self.ddqn:\n",
    "                q_target = rewards + self.gamma * (1.0 - dones) * self.tgt_net(next_states).max(1)[0].unsqueeze(1)\n",
    "            else:\n",
    "                next_action = self.q_net(next_states).max(1)[1].unsqueeze(1)\n",
    "                next_q = self.tgt_net(next_states).squeeze(1).gather(1, next_action)\n",
    "                q_target = rewards + self.gamma * (1.0 - dones) * next_q\n",
    "\n",
    "            q_target = q_target.detach()\n",
    "            q_prediction = self.q_net(states).squeeze(1)\n",
    "            q_prediction = q_prediction.gather(1, actions)\n",
    "            loss = F.mse_loss(q_target, q_prediction)\n",
    "            self.optimizer.zero_grad()\n",
    "            loss.backward()\n",
    "            self.optimizer.step()\n",
    "        return\n",
    "    \n",
    "    def get_action(self, state):\n",
    "        if(np.random.rand() < self.epsilon):\n",
    "            return np.argmax(np.random.rand(4))\n",
    "        else:\n",
    "            state = torch.from_numpy(state).float().to(device)\n",
    "            qvals = self.q_net(state).cpu().data.numpy()\n",
    "            return np.argmax(qvals)\n",
    "    def save_nns(self, path):\n",
    "        q_net_path = model_save_path + str(setting) + \"_q_net.pt\"\n",
    "        torch.save(self.q_net.state_dict(), q_net_path)\n",
    "        tgt_net_path = model_save_path + str(setting) + \"_tgt_net.pt\"\n",
    "        torch.save(self.tgt_net.state_dict(), tgt_net_path)\n",
    "        return"
   ]
  },
  {
   "cell_type": "code",
   "execution_count": 6,
   "metadata": {
    "scrolled": true
   },
   "outputs": [
    {
     "name": "stderr",
     "output_type": "stream",
     "text": [
      "INFO:unityagents:\n",
      "'Academy' started successfully!\n",
      "Unity Academy name: Academy\n",
      "        Number of Brains: 1\n",
      "        Number of External Brains : 1\n",
      "        Lesson number : 0\n",
      "        Reset Parameters :\n",
      "\t\t\n",
      "Unity brain name: BananaBrain\n",
      "        Number of Visual Observations (per agent): 0\n",
      "        Vector Observation space type: continuous\n",
      "        Vector Observation space size (per agent): 37\n",
      "        Number of stacked Vector Observation: 1\n",
      "        Vector Action space type: discrete\n",
      "        Vector Action space size (per agent): 4\n",
      "        Vector Action descriptions: , , , \n"
     ]
    },
    {
     "name": "stdout",
     "output_type": "stream",
     "text": [
      "Setting\n",
      "Playing episode 0 reward: 0.0 average reward: 0.0\n",
      "Playing episode 250 reward: 10.0 average reward: 12.42\n",
      "Playing episode 500 reward: 21.0 average reward: 13.49\n",
      "Playing episode 750 reward: 4.0 average reward: 11.63\n",
      "Problem solved after 999 episodes, average reward: 13.33\n",
      "Setting\n",
      "Playing episode 0 reward: -1.0 average reward: -1.0\n",
      "Playing episode 250 reward: 19.0 average reward: 13.16\n",
      "Playing episode 500 reward: 13.0 average reward: 13.18\n",
      "Playing episode 750 reward: 18.0 average reward: 13.54\n",
      "Problem solved after 999 episodes, average reward: 13.73\n",
      "Setting\n",
      "Playing episode 0 reward: 2.0 average reward: 2.0\n",
      "Playing episode 250 reward: 21.0 average reward: 14.14\n",
      "Playing episode 500 reward: 9.0 average reward: 13.3\n",
      "Playing episode 750 reward: 17.0 average reward: 13.43\n",
      "Problem solved after 999 episodes, average reward: 14.14\n"
     ]
    }
   ],
   "source": [
    "# Loading environments & setting brain, as in Navigation.ipynb from [6]:\n",
    "env = UnityEnvironment(file_name=environment_path)\n",
    "brain_name = env.brain_names[0]\n",
    "brain = env.brains[brain_name]\n",
    "env_info = env.reset(train_mode=False)[brain_name]\n",
    "state = env_info.vector_observations[0] \n",
    "\n",
    "action_size = brain.vector_action_space_size\n",
    "state = env_info.vector_observations[0]\n",
    "state_size = len(state)\n",
    "#\n",
    "\n",
    "result_collector = []\n",
    "for i, setting in enumerate(test_settings):\n",
    "    \n",
    "    print(\"Setting\")\n",
    "    # construct the agent\n",
    "    agent = Agent(state_size, action_size, setting)\n",
    "\n",
    "    # reset the lists for monitoring progress\n",
    "    all_rewards = []\n",
    "    avg_rewards = []\n",
    "    last_rewards = deque(maxlen = 100)\n",
    "    \n",
    "    # start training\n",
    "    for n in range(number_episodes):\n",
    "        sum_reward = 0\n",
    "        env_info = env.reset(train_mode=True)[brain_name]\n",
    "        state = env_info.vector_observations[0] \n",
    "        while True:\n",
    "            action = agent.get_action(state)\n",
    "            env_info = env.step(action)[brain_name]\n",
    "            next_state = env_info.vector_observations[0]\n",
    "            reward = env_info.rewards[0]\n",
    "            done = env_info.local_done[0]\n",
    "            experience = Experience(state, action, reward, next_state, done)\n",
    "            agent.update(experience)\n",
    "            sum_reward += reward     \n",
    "            state = next_state                             \n",
    "            if done:                                       \n",
    "                break\n",
    "        all_rewards.append(sum_reward)\n",
    "        last_rewards.append(sum_reward)\n",
    "        avg = np.mean(last_rewards)\n",
    "        avg_rewards.append(avg)\n",
    "        if( avg > 15 or n == number_episodes - 1):\n",
    "            print(\"Problem solved after \" + str(n) + \" episodes, average reward: \" + str(avg))\n",
    "            result_collector.append(avg_rewards)\n",
    "            env.reset(train_mode=True)[brain_name]\n",
    "            agent.save_nns(model_save_path)\n",
    "            break\n",
    "        if n%250 == 0:\n",
    "            print(\"Playing episode \" + str(n) + \" reward: \" + str(np.mean(sum_reward)) + \" average reward: \" + str(np.mean(last_rewards)))"
   ]
  },
  {
   "cell_type": "markdown",
   "metadata": {},
   "source": [
    "## Results\n",
    "While the original goal was to have an agent that achieves an average score above 13 in 100 consecutives episodes.  However, since all three agents achieve this goal rather quickly, I set up the score for the goal to 15 in order to see what performance the agents obtain in the longrun. Below is a figure of the average rewards for each of the three different methods."
   ]
  },
  {
   "cell_type": "code",
   "execution_count": 8,
   "metadata": {},
   "outputs": [
    {
     "data": {
      "image/png": "[encoded data removed]",
      "text/plain": [
       "<matplotlib.figure.Figure at 0x7f4476c3cef0>"
      ]
     },
     "metadata": {
      "needs_background": "light"
     },
     "output_type": "display_data"
    }
   ],
   "source": [
    "import matplotlib.pyplot as plt\n",
    "\n",
    "labels = [setting.name for setting in test_settings]\n",
    "for name, result in zip(labels, result_collector):\n",
    "    plt.plot(result, label = name)\n",
    "plt.xlabel('Number of Episodes')\n",
    "plt.ylabel('Average reward')\n",
    "plt.legend()\n",
    "plt.show()"
   ]
  },
  {
   "cell_type": "markdown",
   "metadata": {},
   "source": [
    "## Discussion\n",
    "The figure shows the result from this run, the following discussion is with regards to an earlier run: The DDQN network seems to converge to a good solution quicker than the two other methods and has lower variance after reaching the plateau. One possible explanation for the bad performance of the DDQN + Duel method might be that the layout of the neural network is not ideal for this task. Additionally, the \"Rainbow \" manuscript by Hessel et al. (2017, [8]), who compared the performance of various DQN methods on 57 diffrent Atari games, showed that not all improvements lead to a better performance on each individual task. \n",
    "\n",
    "For the future implementing the different improvements from [8] into the agent would be an interesting direction. For example, Prioritized Experience Replay [9] focuses on using updates that are good candidates to improve the TD-error rather than randomly sampling updates from the replay memory. However, even without further improvements the performance is already quite good on this task."
   ]
  },
  {
   "cell_type": "markdown",
   "metadata": {},
   "source": [
    "# References\n",
    "\n",
    "[1] Juliani, A., Berges, V., Vckay, E., Gao, Y., Henry, H., Mattar, M., Lange, D. (2018). Unity: A General Platform for Intelligent Agents. arXiv preprint arXiv:1809.02627. https://github.com/Unity-Technologies/ml-agents.\n",
    "\n",
    "[2] Mnih, Volodymyr, et al. \"Human-level control through deep reinforcement learning.\" Nature 518.7540 (2015): 529.\n",
    "\n",
    "[3] van Hasselt, Hado, Arthur Guez, and David Silver. \"Deep Reinforcement Learning with Double Q-learning.\" arXiv preprint arXiv:1509.06461v3 (2015).\n",
    "\n",
    "[4] Wang, Ziyu, et al. \"Dueling network architectures for deep reinforcement learning.\" arXiv preprint arXiv:1511.06581v3 (2015).\n",
    "\n",
    "[5] https://github.com/udacity/deep-reinforcement-learning, last accessed: 10.03.2019\n",
    "\n",
    "[6] https://github.com/udacity/deep-reinforcement-learning/tree/master/p1_navigation, last accessed: 10.03.2019\n",
    "\n",
    "[7] https://github.com/openai/baselines, last accessed: 10.03.2019\n",
    "\n",
    "[8] https://pytorch.org/tutorials/, last accessed: 10.03.2019\n",
    "\n",
    "[9] Hessel, Matteo, et al. \"Rainbow: Combining Improvements in Deep Reinforcement Learning.\" arXiv preprint arXiv:1710.02298 (2017).\n",
    "\n",
    "[10] Schaul, Tom, et al. \"Prioritized experience replay.\" arXiv preprint arXiv:1511.05952 (2015)."
   ]
  },
  {
   "cell_type": "code",
   "execution_count": null,
   "metadata": {},
   "outputs": [],
   "source": []
  }
 ],
 "metadata": {
  "kernelspec": {
   "display_name": "Python 3",
   "language": "python",
   "name": "python3"
  },
  "language_info": {
   "codemirror_mode": {
    "name": "ipython",
    "version": 3
   },
   "file_extension": ".py",
   "mimetype": "text/x-python",
   "name": "python",
   "nbconvert_exporter": "python",
   "pygments_lexer": "ipython3",
   "version": "3.7.1"
  }
 },
 "nbformat": 4,
 "nbformat_minor": 2
}
